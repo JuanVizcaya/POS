{
 "cells": [
  {
   "cell_type": "code",
   "execution_count": 1,
   "metadata": {},
   "outputs": [],
   "source": [
    "import pandas as pd\n",
    "import re\n",
    "import unicodedata\n",
    "import pandas.io.sql as sqlio\n",
    "import psycopg2\n",
    "from datetime import timedelta\n",
    "from datetime import datetime\n",
    "import datetime as dat\n",
    "import os\n",
    "from numpy import ceil\n",
    "import boto3\n",
    "from io import StringIO\n",
    "import json\n",
    "import os\n",
    "import urllib.request\n",
    "import uuid\n",
    "\n",
    "#from postgres.barcel.utils import insert_dataframe_to_postgresql\n",
    "import numpy as np\n",
    "from sshtunnel import SSHTunnelForwarder"
   ]
  },
  {
   "cell_type": "code",
   "execution_count": 2,
   "metadata": {},
   "outputs": [],
   "source": [
    "rec_prods = pd.read_csv('data/recomendador_zona_TB_CASCO_URBANO_febrero(1).csv')"
   ]
  },
  {
   "cell_type": "code",
   "execution_count": 3,
   "metadata": {},
   "outputs": [],
   "source": [
    "rec_prods.columns = rec_prods.columns.str.lower().str.replace('.', '').str.replace(' ', '_')"
   ]
  },
  {
   "cell_type": "code",
   "execution_count": 4,
   "metadata": {},
   "outputs": [
    {
     "name": "stdout",
     "output_type": "stream",
     "text": [
      "<class 'pandas.core.frame.DataFrame'>\n",
      "RangeIndex: 2356 entries, 0 to 2355\n",
      "Data columns (total 3 columns):\n",
      "client_id     2356 non-null int64\n",
      "product_id    2356 non-null int64\n",
      "rate          2356 non-null float64\n",
      "dtypes: float64(1), int64(2)\n",
      "memory usage: 55.3 KB\n"
     ]
    }
   ],
   "source": [
    "rec_prods.info()"
   ]
  },
  {
   "cell_type": "code",
   "execution_count": 5,
   "metadata": {},
   "outputs": [],
   "source": [
    "rec_prods[['client_id', 'product_id']] = rec_prods[['client_id', 'product_id']].astype(str)"
   ]
  },
  {
   "cell_type": "code",
   "execution_count": 6,
   "metadata": {},
   "outputs": [],
   "source": [
    "params_vba= {\n",
    "   'database': 'peru',\n",
    "   'user': os.environ[\"POSTGRES_USER_VBA\"],\n",
    "   #'password': 'cN8997KjpXZxKYsq',\n",
    "   'password': os.environ[\"POSTGRES_PASSWORD_VBA\"],\n",
    "   'host': 'orax-vba.cxsnktx53wuc.us-east-1.rds.amazonaws.com',\n",
    "   'port':  5432\n",
    "}\n",
    "\n",
    "conn_vba = psycopg2.connect(**params_vba) "
   ]
  },
  {
   "cell_type": "code",
   "execution_count": 7,
   "metadata": {},
   "outputs": [
    {
     "name": "stdout",
     "output_type": "stream",
     "text": [
      "/home/federicogarza2/projects/repos-github/orax-pipelines-master/orax-pipelines\n"
     ]
    }
   ],
   "source": [
    "cd ~/projects/repos-github/orax-pipelines-master/orax-pipelines"
   ]
  },
  {
   "cell_type": "code",
   "execution_count": 8,
   "metadata": {},
   "outputs": [],
   "source": [
    "from postgres.barcel.utils import insert_dataframe_to_postgresql"
   ]
  },
  {
   "cell_type": "code",
   "execution_count": 9,
   "metadata": {},
   "outputs": [],
   "source": [
    "insert_dataframe_to_postgresql(conn_vba, 'catalogo_recomendaciones', rec_prods)"
   ]
  },
  {
   "cell_type": "code",
   "execution_count": null,
   "metadata": {},
   "outputs": [],
   "source": []
  }
 ],
 "metadata": {
  "kernelspec": {
   "display_name": "Python 3",
   "language": "python",
   "name": "python3"
  },
  "language_info": {
   "codemirror_mode": {
    "name": "ipython",
    "version": 3
   },
   "file_extension": ".py",
   "mimetype": "text/x-python",
   "name": "python",
   "nbconvert_exporter": "python",
   "pygments_lexer": "ipython3",
   "version": "3.7.3"
  }
 },
 "nbformat": 4,
 "nbformat_minor": 2
}
